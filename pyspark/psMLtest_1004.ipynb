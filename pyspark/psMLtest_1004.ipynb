{
 "cells": [
  {
   "cell_type": "code",
   "execution_count": 1,
   "id": "dbf9a4b6-9886-4a1b-ad5e-ba2d13c7d81e",
   "metadata": {},
   "outputs": [],
   "source": [
    "import pandas as pd\n",
    "import numpy as np\n",
    "import pyspark.pandas as ps\n",
    "from pyspark.ml.linalg import Vectors"
   ]
  },
  {
   "cell_type": "code",
   "execution_count": 2,
   "id": "73194af1-8d22-486e-9417-801231003a15",
   "metadata": {},
   "outputs": [],
   "source": [
    "# 開啟最佳化 Spark 效能\n",
    "spark.conf.set(\"spark.sql.execution.arrow.pyspark.enabled\", True)"
   ]
  },
  {
   "cell_type": "code",
   "execution_count": 71,
   "id": "ba571b75-2efe-45be-95af-3846c13c9fa4",
   "metadata": {},
   "outputs": [
    {
     "name": "stderr",
     "output_type": "stream",
     "text": [
      "                                                                                \r"
     ]
    }
   ],
   "source": [
    "sdf_3s = spark.read.csv('allmusic3s.csv',sep=\",\",header=True, inferSchema=True)\n",
    "sdf_3s.createOrReplaceTempView(\"dfTable\")"
   ]
  },
  {
   "cell_type": "code",
   "execution_count": 69,
   "id": "603798aa-1635-4548-bc62-b7b88fdadfff",
   "metadata": {},
   "outputs": [],
   "source": [
    "sdf_3s = sdf_3s.dropna(how='any')"
   ]
  },
  {
   "cell_type": "code",
   "execution_count": null,
   "id": "dc06eaf0-2de6-4b60-99bc-2e157cfa350d",
   "metadata": {
    "tags": []
   },
   "outputs": [],
   "source": [
    "sdf_3s.printSchema()"
   ]
  },
  {
   "cell_type": "code",
   "execution_count": null,
   "id": "695bac80-d116-4a42-84ec-c72f1a841f60",
   "metadata": {
    "tags": []
   },
   "outputs": [],
   "source": [
    "sdf_3s.count()"
   ]
  },
  {
   "cell_type": "code",
   "execution_count": null,
   "id": "679bb9d4-9e01-41c0-8f94-8575787b9afd",
   "metadata": {},
   "outputs": [],
   "source": [
    "type(sdf_3s)"
   ]
  },
  {
   "cell_type": "code",
   "execution_count": null,
   "id": "9ff1fc60-f80b-4d08-bae7-4a38dccd98fb",
   "metadata": {},
   "outputs": [],
   "source": [
    "sdf_3s.select(\"total_beats\").show()"
   ]
  },
  {
   "cell_type": "markdown",
   "id": "47fd0293-6207-4d84-a39f-f78296492ba1",
   "metadata": {},
   "source": [
    "***"
   ]
  },
  {
   "cell_type": "code",
   "execution_count": null,
   "id": "64be4256-5e66-4c58-81d7-6ecf118659ba",
   "metadata": {
    "jupyter": {
     "source_hidden": true
    },
    "tags": []
   },
   "outputs": [],
   "source": [
    "# 測試可執行\n",
    "from pyspark.ml.feature import MinMaxScaler\n",
    "from pyspark.ml.feature import VectorAssembler\n",
    "\n",
    "cols = sdf_3s.columns\n",
    "feature_sdf_3s = sdf_3s.select(cols[5:8]) # ['chroma_stft_mean', 'chroma_stft_std', 'chroma_stft_var']\n",
    "cols = feature_sdf_3s.columns\n",
    "\n",
    "assembler = VectorAssembler(inputCols=cols, outputCol=\"features\")\n",
    "output = assembler.transform(feature_sdf_3s)\n",
    "# output.show()\n",
    "scaler = MinMaxScaler(inputCol='features', outputCol=\"scaledFeatures\")\n",
    "# rescale each feature to range [min, max].\n",
    "scaledData = scaler.fit(output).transform(output)\n",
    "scaledData.show()"
   ]
  },
  {
   "cell_type": "markdown",
   "id": "33181c14-38e2-4dd3-b868-1aa267d71268",
   "metadata": {},
   "source": [
    "***"
   ]
  },
  {
   "cell_type": "code",
   "execution_count": 10,
   "id": "7eb1789d-3a6c-46b3-8f8b-3bfca183fb72",
   "metadata": {},
   "outputs": [],
   "source": [
    "from pyspark.ml.feature import StringIndexer, OneHotEncoder, StandardScaler, MinMaxScaler,VectorAssembler\n",
    "from pyspark.ml import Pipeline"
   ]
  },
  {
   "cell_type": "code",
   "execution_count": 70,
   "id": "15feb508-1d20-485b-9ef7-7bcb0dbdadd8",
   "metadata": {
    "collapsed": true,
    "jupyter": {
     "outputs_hidden": true
    },
    "tags": []
   },
   "outputs": [
    {
     "name": "stdout",
     "output_type": "stream",
     "text": [
      "root\n",
      " |-- _c4: string (nullable = true)\n",
      " |-- _c5: string (nullable = true)\n",
      " |-- _c6: string (nullable = true)\n",
      " |-- _c7: string (nullable = true)\n",
      " |-- _c8: string (nullable = true)\n",
      " |-- _c9: string (nullable = true)\n",
      " |-- _c10: string (nullable = true)\n",
      " |-- _c11: string (nullable = true)\n",
      " |-- _c12: string (nullable = true)\n",
      " |-- _c13: string (nullable = true)\n",
      " |-- _c14: string (nullable = true)\n",
      " |-- _c15: string (nullable = true)\n",
      " |-- _c16: string (nullable = true)\n",
      " |-- _c17: string (nullable = true)\n",
      " |-- _c18: string (nullable = true)\n",
      " |-- _c19: string (nullable = true)\n",
      " |-- _c20: string (nullable = true)\n",
      " |-- _c21: string (nullable = true)\n",
      " |-- _c22: string (nullable = true)\n",
      " |-- _c23: string (nullable = true)\n",
      " |-- _c24: string (nullable = true)\n",
      " |-- _c25: string (nullable = true)\n",
      " |-- _c26: string (nullable = true)\n",
      " |-- _c27: string (nullable = true)\n",
      " |-- _c28: string (nullable = true)\n",
      " |-- _c29: string (nullable = true)\n",
      " |-- _c30: string (nullable = true)\n",
      " |-- _c31: string (nullable = true)\n",
      " |-- _c32: string (nullable = true)\n",
      " |-- _c33: string (nullable = true)\n",
      " |-- _c34: string (nullable = true)\n",
      " |-- _c35: string (nullable = true)\n",
      " |-- _c36: string (nullable = true)\n",
      " |-- _c37: string (nullable = true)\n",
      " |-- _c38: string (nullable = true)\n",
      " |-- _c39: string (nullable = true)\n",
      " |-- _c40: string (nullable = true)\n",
      " |-- _c41: string (nullable = true)\n",
      " |-- _c42: string (nullable = true)\n",
      " |-- _c43: string (nullable = true)\n",
      " |-- _c44: string (nullable = true)\n",
      " |-- _c45: string (nullable = true)\n",
      " |-- _c46: string (nullable = true)\n",
      " |-- _c47: string (nullable = true)\n",
      " |-- _c48: string (nullable = true)\n",
      " |-- _c49: string (nullable = true)\n",
      " |-- _c50: string (nullable = true)\n",
      " |-- _c51: string (nullable = true)\n",
      " |-- _c52: string (nullable = true)\n",
      " |-- _c53: string (nullable = true)\n",
      " |-- _c54: string (nullable = true)\n",
      " |-- _c55: string (nullable = true)\n",
      " |-- _c56: string (nullable = true)\n",
      " |-- _c57: string (nullable = true)\n",
      " |-- _c58: string (nullable = true)\n",
      " |-- _c59: string (nullable = true)\n",
      " |-- _c60: string (nullable = true)\n",
      " |-- _c61: string (nullable = true)\n",
      " |-- _c62: string (nullable = true)\n",
      " |-- _c63: string (nullable = true)\n",
      " |-- _c64: string (nullable = true)\n",
      " |-- _c65: string (nullable = true)\n",
      " |-- _c66: string (nullable = true)\n",
      " |-- _c67: string (nullable = true)\n",
      " |-- _c68: string (nullable = true)\n",
      " |-- _c69: string (nullable = true)\n",
      " |-- _c70: string (nullable = true)\n",
      " |-- _c71: string (nullable = true)\n",
      " |-- _c72: string (nullable = true)\n",
      " |-- _c73: string (nullable = true)\n",
      " |-- _c74: string (nullable = true)\n",
      " |-- _c75: string (nullable = true)\n",
      " |-- _c76: string (nullable = true)\n",
      " |-- _c77: string (nullable = true)\n",
      " |-- _c78: string (nullable = true)\n",
      " |-- _c79: string (nullable = true)\n",
      " |-- _c80: string (nullable = true)\n",
      " |-- _c81: string (nullable = true)\n",
      " |-- _c82: string (nullable = true)\n",
      " |-- _c83: string (nullable = true)\n",
      " |-- _c84: string (nullable = true)\n",
      " |-- _c85: string (nullable = true)\n",
      " |-- _c86: string (nullable = true)\n",
      " |-- _c87: string (nullable = true)\n",
      " |-- _c88: string (nullable = true)\n",
      " |-- _c89: string (nullable = true)\n",
      " |-- _c90: string (nullable = true)\n",
      " |-- _c91: string (nullable = true)\n",
      " |-- _c92: string (nullable = true)\n",
      " |-- _c93: string (nullable = true)\n",
      " |-- _c94: string (nullable = true)\n",
      " |-- _c95: string (nullable = true)\n",
      " |-- _c96: string (nullable = true)\n",
      " |-- _c97: string (nullable = true)\n",
      " |-- _c98: string (nullable = true)\n",
      " |-- _c99: string (nullable = true)\n",
      " |-- _c100: string (nullable = true)\n",
      " |-- _c101: string (nullable = true)\n",
      " |-- _c102: string (nullable = true)\n",
      " |-- _c103: string (nullable = true)\n",
      " |-- _c104: string (nullable = true)\n",
      " |-- _c105: string (nullable = true)\n",
      " |-- _c106: string (nullable = true)\n",
      " |-- _c107: string (nullable = true)\n",
      " |-- _c108: string (nullable = true)\n",
      " |-- _c109: string (nullable = true)\n",
      " |-- _c110: string (nullable = true)\n",
      " |-- _c111: string (nullable = true)\n",
      " |-- _c112: string (nullable = true)\n",
      " |-- _c113: string (nullable = true)\n",
      " |-- _c114: string (nullable = true)\n",
      " |-- _c115: string (nullable = true)\n",
      " |-- _c116: string (nullable = true)\n",
      " |-- _c117: string (nullable = true)\n",
      " |-- _c118: string (nullable = true)\n",
      " |-- _c119: string (nullable = true)\n",
      " |-- _c120: string (nullable = true)\n",
      " |-- _c121: string (nullable = true)\n",
      " |-- _c122: string (nullable = true)\n",
      " |-- _c123: string (nullable = true)\n",
      " |-- _c124: string (nullable = true)\n",
      " |-- _c125: string (nullable = true)\n",
      " |-- _c126: string (nullable = true)\n",
      " |-- _c127: string (nullable = true)\n",
      " |-- _c128: string (nullable = true)\n",
      " |-- _c129: string (nullable = true)\n",
      " |-- _c130: string (nullable = true)\n",
      " |-- _c131: string (nullable = true)\n",
      " |-- _c132: string (nullable = true)\n",
      " |-- _c133: string (nullable = true)\n",
      " |-- _c134: string (nullable = true)\n",
      " |-- _c135: string (nullable = true)\n",
      " |-- _c136: string (nullable = true)\n",
      " |-- _c137: string (nullable = true)\n",
      " |-- _c138: string (nullable = true)\n",
      " |-- _c139: string (nullable = true)\n",
      " |-- _c140: string (nullable = true)\n",
      " |-- _c141: string (nullable = true)\n",
      " |-- _c142: string (nullable = true)\n",
      " |-- _c143: string (nullable = true)\n",
      " |-- _c144: string (nullable = true)\n",
      " |-- _c145: string (nullable = true)\n",
      " |-- _c146: string (nullable = true)\n",
      " |-- _c147: string (nullable = true)\n",
      " |-- _c148: string (nullable = true)\n",
      " |-- _c149: string (nullable = true)\n",
      " |-- _c150: string (nullable = true)\n",
      " |-- _c151: string (nullable = true)\n",
      " |-- _c152: string (nullable = true)\n",
      " |-- _c153: string (nullable = true)\n",
      " |-- _c154: string (nullable = true)\n",
      " |-- _c155: string (nullable = true)\n",
      " |-- _c156: string (nullable = true)\n",
      " |-- _c157: string (nullable = true)\n",
      " |-- _c158: string (nullable = true)\n",
      " |-- _c159: string (nullable = true)\n",
      " |-- _c160: string (nullable = true)\n",
      " |-- _c161: string (nullable = true)\n",
      " |-- _c162: string (nullable = true)\n",
      " |-- _c163: string (nullable = true)\n",
      " |-- _c164: string (nullable = true)\n",
      " |-- _c165: string (nullable = true)\n",
      " |-- _c166: string (nullable = true)\n",
      " |-- _c167: string (nullable = true)\n",
      " |-- _c168: string (nullable = true)\n",
      " |-- _c169: string (nullable = true)\n",
      " |-- _c170: string (nullable = true)\n",
      "\n"
     ]
    }
   ],
   "source": [
    "# 刪除多餘欄位\n",
    "sdf_cols = sdf_3s.columns\n",
    "select_sdf_3s = sdf_3s.select(sdf_cols[4:])\n",
    "select_sdf_3s.printSchema()"
   ]
  },
  {
   "cell_type": "code",
   "execution_count": 15,
   "id": "ac6a67c9-ec40-431d-800f-e7106f7e4929",
   "metadata": {},
   "outputs": [],
   "source": [
    "continuous_features = [d[0] for d in select_sdf_3s.dtypes if (d[1] != 'string')]\n",
    "# continuous_features = select_sdf_3s.select(\"\")"
   ]
  },
  {
   "cell_type": "code",
   "execution_count": 17,
   "id": "0cb01ec7-cdce-4e4c-8769-6dd3a4dd1a33",
   "metadata": {
    "collapsed": true,
    "jupyter": {
     "outputs_hidden": true
    },
    "tags": []
   },
   "outputs": [
    {
     "name": "stdout",
     "output_type": "stream",
     "text": [
      "22/10/04 15:28:04 WARN CSVHeaderChecker: CSV header does not conform to the schema.\n",
      " Header: , song_name, tempo, total_beats, average_beats, chroma_stft_mean, chroma_stft_std, chroma_stft_var, chroma_cq_mean, chroma_cq_std, chroma_cq_var, chroma_cens_mean, chroma_cens_std, chroma_cens_var, melspectrogram_mean, melspectrogram_std, melspectrogram_var, mfcc1_mean, mfcc2_mean, mfcc3_mean, mfcc4_mean, mfcc5_mean, mfcc6_mean, mfcc7_mean, mfcc8_mean, mfcc9_mean, mfcc10_mean, mfcc11_mean, mfcc12_mean, mfcc13_mean, mfcc14_mean, mfcc15_mean, mfcc16_mean, mfcc17_mean, mfcc18_mean, mfcc19_mean, mfcc20_mean, mfcc1_std, mfcc2_std, mfcc3_std, mfcc4_std, mfcc5_std, mfcc6_std, mfcc7_std, mfcc8_std, mfcc9_std, mfcc10_std, mfcc11_std, mfcc12_std, mfcc13_std, mfcc14_std, mfcc15_std, mfcc16_std, mfcc17_std, mfcc18_std, mfcc19_std, mfcc20_std, mfcc1_var, mfcc2_var, mfcc3_var, mfcc4_var, mfcc5_var, mfcc6_var, mfcc7_var, mfcc8_var, mfcc9_var, mfcc10_var, mfcc11_var, mfcc12_var, mfcc13_var, mfcc14_var, mfcc15_var, mfcc16_var, mfcc17_var, mfcc18_var, mfcc19_var, mfcc20_var, mfcc1_delta_mean, mfcc2_delta_mean, mfcc3_delta_mean, mfcc4_delta_mean, mfcc5_delta_mean, mfcc6_delta_mean, mfcc7_delta_mean, mfcc8_delta_mean, mfcc9_delta_mean, mfcc10_delta_mean, mfcc11_delta_mean, mfcc12_delta_mean, mfcc13_delta_mean, mfcc14_delta_mean, mfcc15_delta_mean, mfcc16_delta_mean, mfcc17_delta_mean, mfcc18_delta_mean, mfcc19_delta_mean, mfcc20_delta_mean, mfcc1_delta_std, mfcc2_delta_std, mfcc3_delta_std, mfcc4_delta_std, mfcc5_delta_std, mfcc6_delta_std, mfcc7_delta_std, mfcc8_delta_std, mfcc9_delta_std, mfcc10_delta_std, mfcc11_delta_std, mfcc12_delta_std, mfcc13_delta_std, mfcc14_delta_std, mfcc15_delta_std, mfcc16_delta_std, mfcc17_delta_std, mfcc18_delta_std, mfcc19_delta_std, mfcc20_delta_std, mfcc1_delta_var, mfcc2_delta_var, mfcc3_delta_var, mfcc4_delta_var, mfcc5_delta_var, mfcc6_delta_var, mfcc7_delta_var, mfcc8_delta_var, mfcc9_delta_var, mfcc10_delta_var, mfcc11_delta_var, mfcc12_delta_var, mfcc13_delta_var, mfcc14_delta_var, mfcc15_delta_var, mfcc16_delta_var, mfcc17_delta_var, mfcc18_delta_var, mfcc19_delta_var, mfcc20_delta_var, rmse_mean, rmse_std, rmse_var, cent_mean, cent_std, cent_var, spec_bw_mean, spec_bw_std, spec_bw_var, contrast_mean, contrast_std, contrast_var, rolloff_mean, rolloff_std, rolloff_var, poly_mean, poly_std, poly_var, tonnetz_mean, tonnetz_std, tonnetz_var, zcr_mean, zcr_std, zcr_var, harm_mean, harm_std, harm_var, perc_mean, perc_std, perc_var, frame_mean, frame_std, frame_var, label\n",
      " Schema: _c0, song_name, tempo, total_beats, average_beats, chroma_stft_mean, chroma_stft_std, chroma_stft_var, chroma_cq_mean, chroma_cq_std, chroma_cq_var, chroma_cens_mean, chroma_cens_std, chroma_cens_var, melspectrogram_mean, melspectrogram_std, melspectrogram_var, mfcc1_mean, mfcc2_mean, mfcc3_mean, mfcc4_mean, mfcc5_mean, mfcc6_mean, mfcc7_mean, mfcc8_mean, mfcc9_mean, mfcc10_mean, mfcc11_mean, mfcc12_mean, mfcc13_mean, mfcc14_mean, mfcc15_mean, mfcc16_mean, mfcc17_mean, mfcc18_mean, mfcc19_mean, mfcc20_mean, mfcc1_std, mfcc2_std, mfcc3_std, mfcc4_std, mfcc5_std, mfcc6_std, mfcc7_std, mfcc8_std, mfcc9_std, mfcc10_std, mfcc11_std, mfcc12_std, mfcc13_std, mfcc14_std, mfcc15_std, mfcc16_std, mfcc17_std, mfcc18_std, mfcc19_std, mfcc20_std, mfcc1_var, mfcc2_var, mfcc3_var, mfcc4_var, mfcc5_var, mfcc6_var, mfcc7_var, mfcc8_var, mfcc9_var, mfcc10_var, mfcc11_var, mfcc12_var, mfcc13_var, mfcc14_var, mfcc15_var, mfcc16_var, mfcc17_var, mfcc18_var, mfcc19_var, mfcc20_var, mfcc1_delta_mean, mfcc2_delta_mean, mfcc3_delta_mean, mfcc4_delta_mean, mfcc5_delta_mean, mfcc6_delta_mean, mfcc7_delta_mean, mfcc8_delta_mean, mfcc9_delta_mean, mfcc10_delta_mean, mfcc11_delta_mean, mfcc12_delta_mean, mfcc13_delta_mean, mfcc14_delta_mean, mfcc15_delta_mean, mfcc16_delta_mean, mfcc17_delta_mean, mfcc18_delta_mean, mfcc19_delta_mean, mfcc20_delta_mean, mfcc1_delta_std, mfcc2_delta_std, mfcc3_delta_std, mfcc4_delta_std, mfcc5_delta_std, mfcc6_delta_std, mfcc7_delta_std, mfcc8_delta_std, mfcc9_delta_std, mfcc10_delta_std, mfcc11_delta_std, mfcc12_delta_std, mfcc13_delta_std, mfcc14_delta_std, mfcc15_delta_std, mfcc16_delta_std, mfcc17_delta_std, mfcc18_delta_std, mfcc19_delta_std, mfcc20_delta_std, mfcc1_delta_var, mfcc2_delta_var, mfcc3_delta_var, mfcc4_delta_var, mfcc5_delta_var, mfcc6_delta_var, mfcc7_delta_var, mfcc8_delta_var, mfcc9_delta_var, mfcc10_delta_var, mfcc11_delta_var, mfcc12_delta_var, mfcc13_delta_var, mfcc14_delta_var, mfcc15_delta_var, mfcc16_delta_var, mfcc17_delta_var, mfcc18_delta_var, mfcc19_delta_var, mfcc20_delta_var, rmse_mean, rmse_std, rmse_var, cent_mean, cent_std, cent_var, spec_bw_mean, spec_bw_std, spec_bw_var, contrast_mean, contrast_std, contrast_var, rolloff_mean, rolloff_std, rolloff_var, poly_mean, poly_std, poly_var, tonnetz_mean, tonnetz_std, tonnetz_var, zcr_mean, zcr_std, zcr_var, harm_mean, harm_std, harm_var, perc_mean, perc_std, perc_var, frame_mean, frame_std, frame_var, label\n",
      "Expected: _c0 but found: \n",
      "CSV file: file:///home/spark/sparkcodes/allmusic3s.csv\n"
     ]
    },
    {
     "name": "stderr",
     "output_type": "stream",
     "text": [
      "                                                                                \r"
     ]
    },
    {
     "name": "stdout",
     "output_type": "stream",
     "text": [
      "22/10/04 15:28:06 WARN CSVHeaderChecker: CSV header does not conform to the schema.\n",
      " Header: , song_name, tempo, total_beats, average_beats, chroma_stft_mean, chroma_stft_std, chroma_stft_var, chroma_cq_mean, chroma_cq_std, chroma_cq_var, chroma_cens_mean, chroma_cens_std, chroma_cens_var, melspectrogram_mean, melspectrogram_std, melspectrogram_var, mfcc1_mean, mfcc2_mean, mfcc3_mean, mfcc4_mean, mfcc5_mean, mfcc6_mean, mfcc7_mean, mfcc8_mean, mfcc9_mean, mfcc10_mean, mfcc11_mean, mfcc12_mean, mfcc13_mean, mfcc14_mean, mfcc15_mean, mfcc16_mean, mfcc17_mean, mfcc18_mean, mfcc19_mean, mfcc20_mean, mfcc1_std, mfcc2_std, mfcc3_std, mfcc4_std, mfcc5_std, mfcc6_std, mfcc7_std, mfcc8_std, mfcc9_std, mfcc10_std, mfcc11_std, mfcc12_std, mfcc13_std, mfcc14_std, mfcc15_std, mfcc16_std, mfcc17_std, mfcc18_std, mfcc19_std, mfcc20_std, mfcc1_var, mfcc2_var, mfcc3_var, mfcc4_var, mfcc5_var, mfcc6_var, mfcc7_var, mfcc8_var, mfcc9_var, mfcc10_var, mfcc11_var, mfcc12_var, mfcc13_var, mfcc14_var, mfcc15_var, mfcc16_var, mfcc17_var, mfcc18_var, mfcc19_var, mfcc20_var, mfcc1_delta_mean, mfcc2_delta_mean, mfcc3_delta_mean, mfcc4_delta_mean, mfcc5_delta_mean, mfcc6_delta_mean, mfcc7_delta_mean, mfcc8_delta_mean, mfcc9_delta_mean, mfcc10_delta_mean, mfcc11_delta_mean, mfcc12_delta_mean, mfcc13_delta_mean, mfcc14_delta_mean, mfcc15_delta_mean, mfcc16_delta_mean, mfcc17_delta_mean, mfcc18_delta_mean, mfcc19_delta_mean, mfcc20_delta_mean, mfcc1_delta_std, mfcc2_delta_std, mfcc3_delta_std, mfcc4_delta_std, mfcc5_delta_std, mfcc6_delta_std, mfcc7_delta_std, mfcc8_delta_std, mfcc9_delta_std, mfcc10_delta_std, mfcc11_delta_std, mfcc12_delta_std, mfcc13_delta_std, mfcc14_delta_std, mfcc15_delta_std, mfcc16_delta_std, mfcc17_delta_std, mfcc18_delta_std, mfcc19_delta_std, mfcc20_delta_std, mfcc1_delta_var, mfcc2_delta_var, mfcc3_delta_var, mfcc4_delta_var, mfcc5_delta_var, mfcc6_delta_var, mfcc7_delta_var, mfcc8_delta_var, mfcc9_delta_var, mfcc10_delta_var, mfcc11_delta_var, mfcc12_delta_var, mfcc13_delta_var, mfcc14_delta_var, mfcc15_delta_var, mfcc16_delta_var, mfcc17_delta_var, mfcc18_delta_var, mfcc19_delta_var, mfcc20_delta_var, rmse_mean, rmse_std, rmse_var, cent_mean, cent_std, cent_var, spec_bw_mean, spec_bw_std, spec_bw_var, contrast_mean, contrast_std, contrast_var, rolloff_mean, rolloff_std, rolloff_var, poly_mean, poly_std, poly_var, tonnetz_mean, tonnetz_std, tonnetz_var, zcr_mean, zcr_std, zcr_var, harm_mean, harm_std, harm_var, perc_mean, perc_std, perc_var, frame_mean, frame_std, frame_var, label\n",
      " Schema: _c0, song_name, tempo, total_beats, average_beats, chroma_stft_mean, chroma_stft_std, chroma_stft_var, chroma_cq_mean, chroma_cq_std, chroma_cq_var, chroma_cens_mean, chroma_cens_std, chroma_cens_var, melspectrogram_mean, melspectrogram_std, melspectrogram_var, mfcc1_mean, mfcc2_mean, mfcc3_mean, mfcc4_mean, mfcc5_mean, mfcc6_mean, mfcc7_mean, mfcc8_mean, mfcc9_mean, mfcc10_mean, mfcc11_mean, mfcc12_mean, mfcc13_mean, mfcc14_mean, mfcc15_mean, mfcc16_mean, mfcc17_mean, mfcc18_mean, mfcc19_mean, mfcc20_mean, mfcc1_std, mfcc2_std, mfcc3_std, mfcc4_std, mfcc5_std, mfcc6_std, mfcc7_std, mfcc8_std, mfcc9_std, mfcc10_std, mfcc11_std, mfcc12_std, mfcc13_std, mfcc14_std, mfcc15_std, mfcc16_std, mfcc17_std, mfcc18_std, mfcc19_std, mfcc20_std, mfcc1_var, mfcc2_var, mfcc3_var, mfcc4_var, mfcc5_var, mfcc6_var, mfcc7_var, mfcc8_var, mfcc9_var, mfcc10_var, mfcc11_var, mfcc12_var, mfcc13_var, mfcc14_var, mfcc15_var, mfcc16_var, mfcc17_var, mfcc18_var, mfcc19_var, mfcc20_var, mfcc1_delta_mean, mfcc2_delta_mean, mfcc3_delta_mean, mfcc4_delta_mean, mfcc5_delta_mean, mfcc6_delta_mean, mfcc7_delta_mean, mfcc8_delta_mean, mfcc9_delta_mean, mfcc10_delta_mean, mfcc11_delta_mean, mfcc12_delta_mean, mfcc13_delta_mean, mfcc14_delta_mean, mfcc15_delta_mean, mfcc16_delta_mean, mfcc17_delta_mean, mfcc18_delta_mean, mfcc19_delta_mean, mfcc20_delta_mean, mfcc1_delta_std, mfcc2_delta_std, mfcc3_delta_std, mfcc4_delta_std, mfcc5_delta_std, mfcc6_delta_std, mfcc7_delta_std, mfcc8_delta_std, mfcc9_delta_std, mfcc10_delta_std, mfcc11_delta_std, mfcc12_delta_std, mfcc13_delta_std, mfcc14_delta_std, mfcc15_delta_std, mfcc16_delta_std, mfcc17_delta_std, mfcc18_delta_std, mfcc19_delta_std, mfcc20_delta_std, mfcc1_delta_var, mfcc2_delta_var, mfcc3_delta_var, mfcc4_delta_var, mfcc5_delta_var, mfcc6_delta_var, mfcc7_delta_var, mfcc8_delta_var, mfcc9_delta_var, mfcc10_delta_var, mfcc11_delta_var, mfcc12_delta_var, mfcc13_delta_var, mfcc14_delta_var, mfcc15_delta_var, mfcc16_delta_var, mfcc17_delta_var, mfcc18_delta_var, mfcc19_delta_var, mfcc20_delta_var, rmse_mean, rmse_std, rmse_var, cent_mean, cent_std, cent_var, spec_bw_mean, spec_bw_std, spec_bw_var, contrast_mean, contrast_std, contrast_var, rolloff_mean, rolloff_std, rolloff_var, poly_mean, poly_std, poly_var, tonnetz_mean, tonnetz_std, tonnetz_var, zcr_mean, zcr_std, zcr_var, harm_mean, harm_std, harm_var, perc_mean, perc_std, perc_var, frame_mean, frame_std, frame_var, label\n",
      "Expected: _c0 but found: \n",
      "CSV file: file:///home/spark/sparkcodes/allmusic3s.csv\n"
     ]
    },
    {
     "name": "stderr",
     "output_type": "stream",
     "text": [
      "                                                                                \r"
     ]
    }
   ],
   "source": [
    "# label 編碼\n",
    "# 選取需要的標籤 input=\"label\", output=\"y\"\n",
    "indexers = [StringIndexer(inputCol=\"label\", outputCol=\"y\")] \n",
    "\n",
    "# 特徵轉向量\n",
    "# input = for迴圈取出所有column 並[]轉成 list, output= \"features\" 一個標籤\n",
    "assemblers = VectorAssembler(inputCols=[col for col in continuous_features], outputCol=\"features\")\n",
    "\n",
    "# MinMixScaler 標準化\n",
    "# input= \"features\"(Vector column), output=\"mmfeartures\"\n",
    "mmScalers = MinMaxScaler(inputCol=\"features\", outputCol=\"mmfeatures\")\n",
    "\n",
    "# Piplin整合一起執行\n",
    "pipeline = Pipeline(stages= [assemblers, mmScalers] + indexers)\n",
    "scalerModel = pipeline.fit(select_sdf_3s) \n",
    "scaledData = scalerModel.transform(select_sdf_3s)"
   ]
  },
  {
   "cell_type": "code",
   "execution_count": 19,
   "id": "f4385bd9-84fb-4af7-a41d-829dc6a7d013",
   "metadata": {
    "collapsed": true,
    "jupyter": {
     "outputs_hidden": true
    },
    "tags": []
   },
   "outputs": [
    {
     "name": "stdout",
     "output_type": "stream",
     "text": [
      "root\n",
      " |-- average_beats: double (nullable = true)\n",
      " |-- chroma_stft_mean: double (nullable = true)\n",
      " |-- chroma_stft_std: double (nullable = true)\n",
      " |-- chroma_stft_var: double (nullable = true)\n",
      " |-- chroma_cq_mean: double (nullable = true)\n",
      " |-- chroma_cq_std: double (nullable = true)\n",
      " |-- chroma_cq_var: double (nullable = true)\n",
      " |-- chroma_cens_mean: double (nullable = true)\n",
      " |-- chroma_cens_std: double (nullable = true)\n",
      " |-- chroma_cens_var: double (nullable = true)\n",
      " |-- melspectrogram_mean: double (nullable = true)\n",
      " |-- melspectrogram_std: double (nullable = true)\n",
      " |-- melspectrogram_var: double (nullable = true)\n",
      " |-- mfcc1_mean: double (nullable = true)\n",
      " |-- mfcc2_mean: double (nullable = true)\n",
      " |-- mfcc3_mean: double (nullable = true)\n",
      " |-- mfcc4_mean: double (nullable = true)\n",
      " |-- mfcc5_mean: double (nullable = true)\n",
      " |-- mfcc6_mean: double (nullable = true)\n",
      " |-- mfcc7_mean: double (nullable = true)\n",
      " |-- mfcc8_mean: double (nullable = true)\n",
      " |-- mfcc9_mean: double (nullable = true)\n",
      " |-- mfcc10_mean: double (nullable = true)\n",
      " |-- mfcc11_mean: double (nullable = true)\n",
      " |-- mfcc12_mean: double (nullable = true)\n",
      " |-- mfcc13_mean: double (nullable = true)\n",
      " |-- mfcc14_mean: double (nullable = true)\n",
      " |-- mfcc15_mean: double (nullable = true)\n",
      " |-- mfcc16_mean: double (nullable = true)\n",
      " |-- mfcc17_mean: double (nullable = true)\n",
      " |-- mfcc18_mean: double (nullable = true)\n",
      " |-- mfcc19_mean: double (nullable = true)\n",
      " |-- mfcc20_mean: double (nullable = true)\n",
      " |-- mfcc1_std: double (nullable = true)\n",
      " |-- mfcc2_std: double (nullable = true)\n",
      " |-- mfcc3_std: double (nullable = true)\n",
      " |-- mfcc4_std: double (nullable = true)\n",
      " |-- mfcc5_std: double (nullable = true)\n",
      " |-- mfcc6_std: double (nullable = true)\n",
      " |-- mfcc7_std: double (nullable = true)\n",
      " |-- mfcc8_std: double (nullable = true)\n",
      " |-- mfcc9_std: double (nullable = true)\n",
      " |-- mfcc10_std: double (nullable = true)\n",
      " |-- mfcc11_std: double (nullable = true)\n",
      " |-- mfcc12_std: double (nullable = true)\n",
      " |-- mfcc13_std: double (nullable = true)\n",
      " |-- mfcc14_std: double (nullable = true)\n",
      " |-- mfcc15_std: double (nullable = true)\n",
      " |-- mfcc16_std: double (nullable = true)\n",
      " |-- mfcc17_std: double (nullable = true)\n",
      " |-- mfcc18_std: double (nullable = true)\n",
      " |-- mfcc19_std: double (nullable = true)\n",
      " |-- mfcc20_std: double (nullable = true)\n",
      " |-- mfcc1_var: double (nullable = true)\n",
      " |-- mfcc2_var: double (nullable = true)\n",
      " |-- mfcc3_var: double (nullable = true)\n",
      " |-- mfcc4_var: double (nullable = true)\n",
      " |-- mfcc5_var: double (nullable = true)\n",
      " |-- mfcc6_var: double (nullable = true)\n",
      " |-- mfcc7_var: double (nullable = true)\n",
      " |-- mfcc8_var: double (nullable = true)\n",
      " |-- mfcc9_var: double (nullable = true)\n",
      " |-- mfcc10_var: double (nullable = true)\n",
      " |-- mfcc11_var: double (nullable = true)\n",
      " |-- mfcc12_var: double (nullable = true)\n",
      " |-- mfcc13_var: double (nullable = true)\n",
      " |-- mfcc14_var: double (nullable = true)\n",
      " |-- mfcc15_var: double (nullable = true)\n",
      " |-- mfcc16_var: double (nullable = true)\n",
      " |-- mfcc17_var: double (nullable = true)\n",
      " |-- mfcc18_var: double (nullable = true)\n",
      " |-- mfcc19_var: double (nullable = true)\n",
      " |-- mfcc20_var: double (nullable = true)\n",
      " |-- mfcc1_delta_mean: double (nullable = true)\n",
      " |-- mfcc2_delta_mean: double (nullable = true)\n",
      " |-- mfcc3_delta_mean: double (nullable = true)\n",
      " |-- mfcc4_delta_mean: double (nullable = true)\n",
      " |-- mfcc5_delta_mean: double (nullable = true)\n",
      " |-- mfcc6_delta_mean: double (nullable = true)\n",
      " |-- mfcc7_delta_mean: double (nullable = true)\n",
      " |-- mfcc8_delta_mean: double (nullable = true)\n",
      " |-- mfcc9_delta_mean: double (nullable = true)\n",
      " |-- mfcc10_delta_mean: double (nullable = true)\n",
      " |-- mfcc11_delta_mean: double (nullable = true)\n",
      " |-- mfcc12_delta_mean: double (nullable = true)\n",
      " |-- mfcc13_delta_mean: double (nullable = true)\n",
      " |-- mfcc14_delta_mean: double (nullable = true)\n",
      " |-- mfcc15_delta_mean: double (nullable = true)\n",
      " |-- mfcc16_delta_mean: double (nullable = true)\n",
      " |-- mfcc17_delta_mean: double (nullable = true)\n",
      " |-- mfcc18_delta_mean: double (nullable = true)\n",
      " |-- mfcc19_delta_mean: double (nullable = true)\n",
      " |-- mfcc20_delta_mean: double (nullable = true)\n",
      " |-- mfcc1_delta_std: double (nullable = true)\n",
      " |-- mfcc2_delta_std: double (nullable = true)\n",
      " |-- mfcc3_delta_std: double (nullable = true)\n",
      " |-- mfcc4_delta_std: double (nullable = true)\n",
      " |-- mfcc5_delta_std: double (nullable = true)\n",
      " |-- mfcc6_delta_std: double (nullable = true)\n",
      " |-- mfcc7_delta_std: double (nullable = true)\n",
      " |-- mfcc8_delta_std: double (nullable = true)\n",
      " |-- mfcc9_delta_std: double (nullable = true)\n",
      " |-- mfcc10_delta_std: double (nullable = true)\n",
      " |-- mfcc11_delta_std: double (nullable = true)\n",
      " |-- mfcc12_delta_std: double (nullable = true)\n",
      " |-- mfcc13_delta_std: double (nullable = true)\n",
      " |-- mfcc14_delta_std: double (nullable = true)\n",
      " |-- mfcc15_delta_std: double (nullable = true)\n",
      " |-- mfcc16_delta_std: double (nullable = true)\n",
      " |-- mfcc17_delta_std: double (nullable = true)\n",
      " |-- mfcc18_delta_std: double (nullable = true)\n",
      " |-- mfcc19_delta_std: double (nullable = true)\n",
      " |-- mfcc20_delta_std: double (nullable = true)\n",
      " |-- mfcc1_delta_var: double (nullable = true)\n",
      " |-- mfcc2_delta_var: double (nullable = true)\n",
      " |-- mfcc3_delta_var: double (nullable = true)\n",
      " |-- mfcc4_delta_var: double (nullable = true)\n",
      " |-- mfcc5_delta_var: double (nullable = true)\n",
      " |-- mfcc6_delta_var: double (nullable = true)\n",
      " |-- mfcc7_delta_var: double (nullable = true)\n",
      " |-- mfcc8_delta_var: double (nullable = true)\n",
      " |-- mfcc9_delta_var: double (nullable = true)\n",
      " |-- mfcc10_delta_var: double (nullable = true)\n",
      " |-- mfcc11_delta_var: double (nullable = true)\n",
      " |-- mfcc12_delta_var: double (nullable = true)\n",
      " |-- mfcc13_delta_var: double (nullable = true)\n",
      " |-- mfcc14_delta_var: double (nullable = true)\n",
      " |-- mfcc15_delta_var: double (nullable = true)\n",
      " |-- mfcc16_delta_var: double (nullable = true)\n",
      " |-- mfcc17_delta_var: double (nullable = true)\n",
      " |-- mfcc18_delta_var: double (nullable = true)\n",
      " |-- mfcc19_delta_var: double (nullable = true)\n",
      " |-- mfcc20_delta_var: double (nullable = true)\n",
      " |-- rmse_mean: double (nullable = true)\n",
      " |-- rmse_std: double (nullable = true)\n",
      " |-- rmse_var: double (nullable = true)\n",
      " |-- cent_mean: double (nullable = true)\n",
      " |-- cent_std: double (nullable = true)\n",
      " |-- cent_var: double (nullable = true)\n",
      " |-- spec_bw_mean: double (nullable = true)\n",
      " |-- spec_bw_std: double (nullable = true)\n",
      " |-- spec_bw_var: double (nullable = true)\n",
      " |-- contrast_mean: double (nullable = true)\n",
      " |-- contrast_std: double (nullable = true)\n",
      " |-- contrast_var: double (nullable = true)\n",
      " |-- rolloff_mean: double (nullable = true)\n",
      " |-- rolloff_std: double (nullable = true)\n",
      " |-- rolloff_var: double (nullable = true)\n",
      " |-- poly_mean: double (nullable = true)\n",
      " |-- poly_std: double (nullable = true)\n",
      " |-- poly_var: double (nullable = true)\n",
      " |-- tonnetz_mean: double (nullable = true)\n",
      " |-- tonnetz_std: double (nullable = true)\n",
      " |-- tonnetz_var: double (nullable = true)\n",
      " |-- zcr_mean: double (nullable = true)\n",
      " |-- zcr_std: double (nullable = true)\n",
      " |-- zcr_var: double (nullable = true)\n",
      " |-- harm_mean: double (nullable = true)\n",
      " |-- harm_std: double (nullable = true)\n",
      " |-- harm_var: double (nullable = true)\n",
      " |-- perc_mean: double (nullable = true)\n",
      " |-- perc_std: double (nullable = true)\n",
      " |-- perc_var: double (nullable = true)\n",
      " |-- frame_mean: double (nullable = true)\n",
      " |-- frame_std: double (nullable = true)\n",
      " |-- frame_var: double (nullable = true)\n",
      " |-- label: string (nullable = true)\n",
      " |-- features: vector (nullable = true)\n",
      " |-- mmfeatures: vector (nullable = true)\n",
      " |-- y: double (nullable = false)\n",
      "\n"
     ]
    }
   ],
   "source": [
    "scaledData.printSchema()"
   ]
  },
  {
   "cell_type": "code",
   "execution_count": 25,
   "id": "6a3cd026-a85a-4ec1-b2b5-4893b1e3deaa",
   "metadata": {
    "collapsed": true,
    "jupyter": {
     "outputs_hidden": true
    },
    "tags": []
   },
   "outputs": [
    {
     "name": "stdout",
     "output_type": "stream",
     "text": [
      "22/10/04 15:34:13 WARN CSVHeaderChecker: CSV header does not conform to the schema.\n",
      " Header: , song_name, tempo, total_beats, average_beats, chroma_stft_mean, chroma_stft_std, chroma_stft_var, chroma_cq_mean, chroma_cq_std, chroma_cq_var, chroma_cens_mean, chroma_cens_std, chroma_cens_var, melspectrogram_mean, melspectrogram_std, melspectrogram_var, mfcc1_mean, mfcc2_mean, mfcc3_mean, mfcc4_mean, mfcc5_mean, mfcc6_mean, mfcc7_mean, mfcc8_mean, mfcc9_mean, mfcc10_mean, mfcc11_mean, mfcc12_mean, mfcc13_mean, mfcc14_mean, mfcc15_mean, mfcc16_mean, mfcc17_mean, mfcc18_mean, mfcc19_mean, mfcc20_mean, mfcc1_std, mfcc2_std, mfcc3_std, mfcc4_std, mfcc5_std, mfcc6_std, mfcc7_std, mfcc8_std, mfcc9_std, mfcc10_std, mfcc11_std, mfcc12_std, mfcc13_std, mfcc14_std, mfcc15_std, mfcc16_std, mfcc17_std, mfcc18_std, mfcc19_std, mfcc20_std, mfcc1_var, mfcc2_var, mfcc3_var, mfcc4_var, mfcc5_var, mfcc6_var, mfcc7_var, mfcc8_var, mfcc9_var, mfcc10_var, mfcc11_var, mfcc12_var, mfcc13_var, mfcc14_var, mfcc15_var, mfcc16_var, mfcc17_var, mfcc18_var, mfcc19_var, mfcc20_var, mfcc1_delta_mean, mfcc2_delta_mean, mfcc3_delta_mean, mfcc4_delta_mean, mfcc5_delta_mean, mfcc6_delta_mean, mfcc7_delta_mean, mfcc8_delta_mean, mfcc9_delta_mean, mfcc10_delta_mean, mfcc11_delta_mean, mfcc12_delta_mean, mfcc13_delta_mean, mfcc14_delta_mean, mfcc15_delta_mean, mfcc16_delta_mean, mfcc17_delta_mean, mfcc18_delta_mean, mfcc19_delta_mean, mfcc20_delta_mean, mfcc1_delta_std, mfcc2_delta_std, mfcc3_delta_std, mfcc4_delta_std, mfcc5_delta_std, mfcc6_delta_std, mfcc7_delta_std, mfcc8_delta_std, mfcc9_delta_std, mfcc10_delta_std, mfcc11_delta_std, mfcc12_delta_std, mfcc13_delta_std, mfcc14_delta_std, mfcc15_delta_std, mfcc16_delta_std, mfcc17_delta_std, mfcc18_delta_std, mfcc19_delta_std, mfcc20_delta_std, mfcc1_delta_var, mfcc2_delta_var, mfcc3_delta_var, mfcc4_delta_var, mfcc5_delta_var, mfcc6_delta_var, mfcc7_delta_var, mfcc8_delta_var, mfcc9_delta_var, mfcc10_delta_var, mfcc11_delta_var, mfcc12_delta_var, mfcc13_delta_var, mfcc14_delta_var, mfcc15_delta_var, mfcc16_delta_var, mfcc17_delta_var, mfcc18_delta_var, mfcc19_delta_var, mfcc20_delta_var, rmse_mean, rmse_std, rmse_var, cent_mean, cent_std, cent_var, spec_bw_mean, spec_bw_std, spec_bw_var, contrast_mean, contrast_std, contrast_var, rolloff_mean, rolloff_std, rolloff_var, poly_mean, poly_std, poly_var, tonnetz_mean, tonnetz_std, tonnetz_var, zcr_mean, zcr_std, zcr_var, harm_mean, harm_std, harm_var, perc_mean, perc_std, perc_var, frame_mean, frame_std, frame_var, label\n",
      " Schema: _c0, song_name, tempo, total_beats, average_beats, chroma_stft_mean, chroma_stft_std, chroma_stft_var, chroma_cq_mean, chroma_cq_std, chroma_cq_var, chroma_cens_mean, chroma_cens_std, chroma_cens_var, melspectrogram_mean, melspectrogram_std, melspectrogram_var, mfcc1_mean, mfcc2_mean, mfcc3_mean, mfcc4_mean, mfcc5_mean, mfcc6_mean, mfcc7_mean, mfcc8_mean, mfcc9_mean, mfcc10_mean, mfcc11_mean, mfcc12_mean, mfcc13_mean, mfcc14_mean, mfcc15_mean, mfcc16_mean, mfcc17_mean, mfcc18_mean, mfcc19_mean, mfcc20_mean, mfcc1_std, mfcc2_std, mfcc3_std, mfcc4_std, mfcc5_std, mfcc6_std, mfcc7_std, mfcc8_std, mfcc9_std, mfcc10_std, mfcc11_std, mfcc12_std, mfcc13_std, mfcc14_std, mfcc15_std, mfcc16_std, mfcc17_std, mfcc18_std, mfcc19_std, mfcc20_std, mfcc1_var, mfcc2_var, mfcc3_var, mfcc4_var, mfcc5_var, mfcc6_var, mfcc7_var, mfcc8_var, mfcc9_var, mfcc10_var, mfcc11_var, mfcc12_var, mfcc13_var, mfcc14_var, mfcc15_var, mfcc16_var, mfcc17_var, mfcc18_var, mfcc19_var, mfcc20_var, mfcc1_delta_mean, mfcc2_delta_mean, mfcc3_delta_mean, mfcc4_delta_mean, mfcc5_delta_mean, mfcc6_delta_mean, mfcc7_delta_mean, mfcc8_delta_mean, mfcc9_delta_mean, mfcc10_delta_mean, mfcc11_delta_mean, mfcc12_delta_mean, mfcc13_delta_mean, mfcc14_delta_mean, mfcc15_delta_mean, mfcc16_delta_mean, mfcc17_delta_mean, mfcc18_delta_mean, mfcc19_delta_mean, mfcc20_delta_mean, mfcc1_delta_std, mfcc2_delta_std, mfcc3_delta_std, mfcc4_delta_std, mfcc5_delta_std, mfcc6_delta_std, mfcc7_delta_std, mfcc8_delta_std, mfcc9_delta_std, mfcc10_delta_std, mfcc11_delta_std, mfcc12_delta_std, mfcc13_delta_std, mfcc14_delta_std, mfcc15_delta_std, mfcc16_delta_std, mfcc17_delta_std, mfcc18_delta_std, mfcc19_delta_std, mfcc20_delta_std, mfcc1_delta_var, mfcc2_delta_var, mfcc3_delta_var, mfcc4_delta_var, mfcc5_delta_var, mfcc6_delta_var, mfcc7_delta_var, mfcc8_delta_var, mfcc9_delta_var, mfcc10_delta_var, mfcc11_delta_var, mfcc12_delta_var, mfcc13_delta_var, mfcc14_delta_var, mfcc15_delta_var, mfcc16_delta_var, mfcc17_delta_var, mfcc18_delta_var, mfcc19_delta_var, mfcc20_delta_var, rmse_mean, rmse_std, rmse_var, cent_mean, cent_std, cent_var, spec_bw_mean, spec_bw_std, spec_bw_var, contrast_mean, contrast_std, contrast_var, rolloff_mean, rolloff_std, rolloff_var, poly_mean, poly_std, poly_var, tonnetz_mean, tonnetz_std, tonnetz_var, zcr_mean, zcr_std, zcr_var, harm_mean, harm_std, harm_var, perc_mean, perc_std, perc_var, frame_mean, frame_std, frame_var, label\n",
      "Expected: _c0 but found: \n",
      "CSV file: file:///home/spark/sparkcodes/allmusic3s.csv\n"
     ]
    },
    {
     "name": "stderr",
     "output_type": "stream",
     "text": [
      "[Stage 20:>                                                         (0 + 2) / 2]\r"
     ]
    },
    {
     "name": "stdout",
     "output_type": "stream",
     "text": [
      "+---------+---+-----+\n",
      "|    label|  y|count|\n",
      "+---------+---+-----+\n",
      "|classical|3.0| 4094|\n",
      "|    blues|2.0| 4480|\n",
      "|     jazz|4.0| 4060|\n",
      "|  country|6.0| 2765|\n",
      "|   hiphop|7.0| 2399|\n",
      "|   reggae|5.0| 3238|\n",
      "|      pop|8.0| 2339|\n",
      "|     rock|1.0| 4559|\n",
      "|    metal|0.0| 5107|\n",
      "+---------+---+-----+\n",
      "\n"
     ]
    },
    {
     "name": "stderr",
     "output_type": "stream",
     "text": [
      "                                                                                \r"
     ]
    }
   ],
   "source": [
    "scaledData.groupby(\"label\",\"y\").count().show()"
   ]
  },
  {
   "cell_type": "markdown",
   "id": "b65074ac-7057-4880-98c9-cff7bb68644b",
   "metadata": {},
   "source": [
    "***"
   ]
  },
  {
   "cell_type": "code",
   "execution_count": null,
   "id": "b6710c44-6b8a-46a7-82dc-e34be45ac258",
   "metadata": {
    "jupyter": {
     "source_hidden": true
    },
    "tags": []
   },
   "outputs": [],
   "source": [
    "# 以 sklearn思維轉換一張相同形狀的表格，在 pyspark作法要一個一個欄位做轉換，是不正確的，\n",
    "# 而且在 spark ML並不是這樣做。\n",
    "sdf_cols = sdf_3s.columns\n",
    "select_sdf_3s = sdf_3s.select(cols[4:-2])\n",
    "columns_to_scale = select_sdf_3s.columns\n",
    "assemblers = [VectorAssembler(inputCols=[col], outputCol=col + \"_vec\") for col in columns_to_scale]\n",
    "scalers = [MinMaxScaler(inputCol=col + \"_vec\", outputCol=col + \"_scaled\") for col in columns_to_scale]\n",
    "pipeline = Pipeline(stages=assemblers + scalers)\n",
    "scalerModel = pipeline.fit(select_sdf_3s)\n",
    "scaledData = scalerModel.transform(select_sdf_3s)"
   ]
  },
  {
   "cell_type": "code",
   "execution_count": null,
   "id": "d9f3e925-dc4f-4d8d-856f-ad27655f6a33",
   "metadata": {
    "jupyter": {
     "source_hidden": true
    },
    "tags": []
   },
   "outputs": [],
   "source": [
    "from pyspark.ml.feature import MinMaxScaler\n",
    "from pyspark.ml.feature import VectorAssembler"
   ]
  },
  {
   "cell_type": "code",
   "execution_count": null,
   "id": "b90b72bf-2625-4937-af6b-ab80e28b2bc7",
   "metadata": {
    "jupyter": {
     "source_hidden": true
    },
    "tags": []
   },
   "outputs": [],
   "source": [
    "# 將所有特徵轉為一個向量的欄位叫 \"features\"再進 MinMaxScaler(inputCol=\"features\")\n",
    "# 輸出另一個 outputCol 欄位。\n",
    "cols = sdf_3s.columns\n",
    "select_sdf_3s2 = sdf_3s.select(cols[4:-2])\n",
    "columns_to_scale = select_sdf_3s2.columns\n",
    "assemblers2 = VectorAssembler(inputCols=[col for col in columns_to_scale], outputCol=\"features\") \n",
    "scalers2 = MinMaxScaler(inputCol=\"features\", outputCol=\"mmfeatures\")\n",
    "pipeline2 = Pipeline(stages=[assemblers2, scalers2])\n",
    "scalerModel2 = pipeline2.fit(select_sdf_3s2)\n",
    "scaledData2 = scalerModel2.transform(select_sdf_3s2)"
   ]
  },
  {
   "cell_type": "code",
   "execution_count": 42,
   "id": "2c60f2c7-f41b-413f-b26c-bca89968696d",
   "metadata": {
    "collapsed": true,
    "jupyter": {
     "outputs_hidden": true
    },
    "tags": []
   },
   "outputs": [
    {
     "name": "stdout",
     "output_type": "stream",
     "text": [
      "22/10/04 16:34:40 WARN CSVHeaderChecker: CSV header does not conform to the schema.\n",
      " Header: , song_name, tempo, total_beats, average_beats, chroma_stft_mean, chroma_stft_std, chroma_stft_var, chroma_cq_mean, chroma_cq_std, chroma_cq_var, chroma_cens_mean, chroma_cens_std, chroma_cens_var, melspectrogram_mean, melspectrogram_std, melspectrogram_var, mfcc1_mean, mfcc2_mean, mfcc3_mean, mfcc4_mean, mfcc5_mean, mfcc6_mean, mfcc7_mean, mfcc8_mean, mfcc9_mean, mfcc10_mean, mfcc11_mean, mfcc12_mean, mfcc13_mean, mfcc14_mean, mfcc15_mean, mfcc16_mean, mfcc17_mean, mfcc18_mean, mfcc19_mean, mfcc20_mean, mfcc1_std, mfcc2_std, mfcc3_std, mfcc4_std, mfcc5_std, mfcc6_std, mfcc7_std, mfcc8_std, mfcc9_std, mfcc10_std, mfcc11_std, mfcc12_std, mfcc13_std, mfcc14_std, mfcc15_std, mfcc16_std, mfcc17_std, mfcc18_std, mfcc19_std, mfcc20_std, mfcc1_var, mfcc2_var, mfcc3_var, mfcc4_var, mfcc5_var, mfcc6_var, mfcc7_var, mfcc8_var, mfcc9_var, mfcc10_var, mfcc11_var, mfcc12_var, mfcc13_var, mfcc14_var, mfcc15_var, mfcc16_var, mfcc17_var, mfcc18_var, mfcc19_var, mfcc20_var, mfcc1_delta_mean, mfcc2_delta_mean, mfcc3_delta_mean, mfcc4_delta_mean, mfcc5_delta_mean, mfcc6_delta_mean, mfcc7_delta_mean, mfcc8_delta_mean, mfcc9_delta_mean, mfcc10_delta_mean, mfcc11_delta_mean, mfcc12_delta_mean, mfcc13_delta_mean, mfcc14_delta_mean, mfcc15_delta_mean, mfcc16_delta_mean, mfcc17_delta_mean, mfcc18_delta_mean, mfcc19_delta_mean, mfcc20_delta_mean, mfcc1_delta_std, mfcc2_delta_std, mfcc3_delta_std, mfcc4_delta_std, mfcc5_delta_std, mfcc6_delta_std, mfcc7_delta_std, mfcc8_delta_std, mfcc9_delta_std, mfcc10_delta_std, mfcc11_delta_std, mfcc12_delta_std, mfcc13_delta_std, mfcc14_delta_std, mfcc15_delta_std, mfcc16_delta_std, mfcc17_delta_std, mfcc18_delta_std, mfcc19_delta_std, mfcc20_delta_std, mfcc1_delta_var, mfcc2_delta_var, mfcc3_delta_var, mfcc4_delta_var, mfcc5_delta_var, mfcc6_delta_var, mfcc7_delta_var, mfcc8_delta_var, mfcc9_delta_var, mfcc10_delta_var, mfcc11_delta_var, mfcc12_delta_var, mfcc13_delta_var, mfcc14_delta_var, mfcc15_delta_var, mfcc16_delta_var, mfcc17_delta_var, mfcc18_delta_var, mfcc19_delta_var, mfcc20_delta_var, rmse_mean, rmse_std, rmse_var, cent_mean, cent_std, cent_var, spec_bw_mean, spec_bw_std, spec_bw_var, contrast_mean, contrast_std, contrast_var, rolloff_mean, rolloff_std, rolloff_var, poly_mean, poly_std, poly_var, tonnetz_mean, tonnetz_std, tonnetz_var, zcr_mean, zcr_std, zcr_var, harm_mean, harm_std, harm_var, perc_mean, perc_std, perc_var, frame_mean, frame_std, frame_var, label\n",
      " Schema: _c0, song_name, tempo, total_beats, average_beats, chroma_stft_mean, chroma_stft_std, chroma_stft_var, chroma_cq_mean, chroma_cq_std, chroma_cq_var, chroma_cens_mean, chroma_cens_std, chroma_cens_var, melspectrogram_mean, melspectrogram_std, melspectrogram_var, mfcc1_mean, mfcc2_mean, mfcc3_mean, mfcc4_mean, mfcc5_mean, mfcc6_mean, mfcc7_mean, mfcc8_mean, mfcc9_mean, mfcc10_mean, mfcc11_mean, mfcc12_mean, mfcc13_mean, mfcc14_mean, mfcc15_mean, mfcc16_mean, mfcc17_mean, mfcc18_mean, mfcc19_mean, mfcc20_mean, mfcc1_std, mfcc2_std, mfcc3_std, mfcc4_std, mfcc5_std, mfcc6_std, mfcc7_std, mfcc8_std, mfcc9_std, mfcc10_std, mfcc11_std, mfcc12_std, mfcc13_std, mfcc14_std, mfcc15_std, mfcc16_std, mfcc17_std, mfcc18_std, mfcc19_std, mfcc20_std, mfcc1_var, mfcc2_var, mfcc3_var, mfcc4_var, mfcc5_var, mfcc6_var, mfcc7_var, mfcc8_var, mfcc9_var, mfcc10_var, mfcc11_var, mfcc12_var, mfcc13_var, mfcc14_var, mfcc15_var, mfcc16_var, mfcc17_var, mfcc18_var, mfcc19_var, mfcc20_var, mfcc1_delta_mean, mfcc2_delta_mean, mfcc3_delta_mean, mfcc4_delta_mean, mfcc5_delta_mean, mfcc6_delta_mean, mfcc7_delta_mean, mfcc8_delta_mean, mfcc9_delta_mean, mfcc10_delta_mean, mfcc11_delta_mean, mfcc12_delta_mean, mfcc13_delta_mean, mfcc14_delta_mean, mfcc15_delta_mean, mfcc16_delta_mean, mfcc17_delta_mean, mfcc18_delta_mean, mfcc19_delta_mean, mfcc20_delta_mean, mfcc1_delta_std, mfcc2_delta_std, mfcc3_delta_std, mfcc4_delta_std, mfcc5_delta_std, mfcc6_delta_std, mfcc7_delta_std, mfcc8_delta_std, mfcc9_delta_std, mfcc10_delta_std, mfcc11_delta_std, mfcc12_delta_std, mfcc13_delta_std, mfcc14_delta_std, mfcc15_delta_std, mfcc16_delta_std, mfcc17_delta_std, mfcc18_delta_std, mfcc19_delta_std, mfcc20_delta_std, mfcc1_delta_var, mfcc2_delta_var, mfcc3_delta_var, mfcc4_delta_var, mfcc5_delta_var, mfcc6_delta_var, mfcc7_delta_var, mfcc8_delta_var, mfcc9_delta_var, mfcc10_delta_var, mfcc11_delta_var, mfcc12_delta_var, mfcc13_delta_var, mfcc14_delta_var, mfcc15_delta_var, mfcc16_delta_var, mfcc17_delta_var, mfcc18_delta_var, mfcc19_delta_var, mfcc20_delta_var, rmse_mean, rmse_std, rmse_var, cent_mean, cent_std, cent_var, spec_bw_mean, spec_bw_std, spec_bw_var, contrast_mean, contrast_std, contrast_var, rolloff_mean, rolloff_std, rolloff_var, poly_mean, poly_std, poly_var, tonnetz_mean, tonnetz_std, tonnetz_var, zcr_mean, zcr_std, zcr_var, harm_mean, harm_std, harm_var, perc_mean, perc_std, perc_var, frame_mean, frame_std, frame_var, label\n",
      "Expected: _c0 but found: \n",
      "CSV file: file:///home/spark/sparkcodes/allmusic3s.csv\n",
      "+-----+\n",
      "|label|\n",
      "+-----+\n",
      "|blues|\n",
      "|blues|\n",
      "|blues|\n",
      "|blues|\n",
      "|blues|\n",
      "|blues|\n",
      "|blues|\n",
      "|blues|\n",
      "|blues|\n",
      "|blues|\n",
      "+-----+\n",
      "only showing top 10 rows\n",
      "\n"
     ]
    }
   ],
   "source": [
    "scaledData.select(\"label\").show(10,False)"
   ]
  },
  {
   "cell_type": "markdown",
   "id": "79c0b8d4-4910-4e42-a3e1-4875f5693dfa",
   "metadata": {},
   "source": [
    "***"
   ]
  },
  {
   "cell_type": "code",
   "execution_count": 56,
   "id": "74aba6b2-28e9-48f2-9818-c77b38ec39bd",
   "metadata": {},
   "outputs": [],
   "source": [
    "#切分訓練、測試資料\n",
    "data = scaledData.select(\"features\",\"mmfeatures\", \"y\")\n",
    "trainingData, testData = data.randomSplit([0.8, 0.2])"
   ]
  },
  {
   "cell_type": "markdown",
   "id": "d7048d78-bdc6-4ab2-a23d-8d01742b90c3",
   "metadata": {},
   "source": [
    "## ML Part"
   ]
  },
  {
   "cell_type": "code",
   "execution_count": 74,
   "id": "34c7ed4e-94a5-4838-afab-43e29190e0bb",
   "metadata": {},
   "outputs": [],
   "source": [
    "from pyspark.ml.classification import LogisticRegression, RandomForestClassifier, GBTClassifier"
   ]
  },
  {
   "cell_type": "code",
   "execution_count": null,
   "id": "355754e4-0748-47c7-b1aa-b74bb5d4a6e7",
   "metadata": {},
   "outputs": [],
   "source": [
    "from pyspark.ml.feature.BucketedRandomProjectionLSHModel.approxNearestNeighbors"
   ]
  },
  {
   "cell_type": "code",
   "execution_count": 75,
   "id": "cedf645a-7308-45ae-8ece-9ce9ee182d83",
   "metadata": {},
   "outputs": [],
   "source": [
    "def select_model(algo, train, test):\n",
    "    model = algo.fit(train)\n",
    "    predictions = model.transform(test)\n",
    "    test_result = model.evaluate(test)\n",
    "    print('{} Accuracy: {:5.3f}'.format(type(algo).__name__, test_result.accuracy))\n",
    "    # pred = predictions.select('label', 'prediction')\n",
    "    # probabilities = predictions.select('label', 'probability')"
   ]
  },
  {
   "cell_type": "code",
   "execution_count": 77,
   "id": "38b43148-7b8b-4a85-ba73-c4361936fae2",
   "metadata": {
    "tags": []
   },
   "outputs": [
    {
     "name": "stdout",
     "output_type": "stream",
     "text": [
      "22/10/04 17:58:58 WARN CSVHeaderChecker: CSV header does not conform to the schema.\n",
      " Header: , song_name, tempo, total_beats, average_beats, chroma_stft_mean, chroma_stft_std, chroma_stft_var, chroma_cq_mean, chroma_cq_std, chroma_cq_var, chroma_cens_mean, chroma_cens_std, chroma_cens_var, melspectrogram_mean, melspectrogram_std, melspectrogram_var, mfcc1_mean, mfcc2_mean, mfcc3_mean, mfcc4_mean, mfcc5_mean, mfcc6_mean, mfcc7_mean, mfcc8_mean, mfcc9_mean, mfcc10_mean, mfcc11_mean, mfcc12_mean, mfcc13_mean, mfcc14_mean, mfcc15_mean, mfcc16_mean, mfcc17_mean, mfcc18_mean, mfcc19_mean, mfcc20_mean, mfcc1_std, mfcc2_std, mfcc3_std, mfcc4_std, mfcc5_std, mfcc6_std, mfcc7_std, mfcc8_std, mfcc9_std, mfcc10_std, mfcc11_std, mfcc12_std, mfcc13_std, mfcc14_std, mfcc15_std, mfcc16_std, mfcc17_std, mfcc18_std, mfcc19_std, mfcc20_std, mfcc1_var, mfcc2_var, mfcc3_var, mfcc4_var, mfcc5_var, mfcc6_var, mfcc7_var, mfcc8_var, mfcc9_var, mfcc10_var, mfcc11_var, mfcc12_var, mfcc13_var, mfcc14_var, mfcc15_var, mfcc16_var, mfcc17_var, mfcc18_var, mfcc19_var, mfcc20_var, mfcc1_delta_mean, mfcc2_delta_mean, mfcc3_delta_mean, mfcc4_delta_mean, mfcc5_delta_mean, mfcc6_delta_mean, mfcc7_delta_mean, mfcc8_delta_mean, mfcc9_delta_mean, mfcc10_delta_mean, mfcc11_delta_mean, mfcc12_delta_mean, mfcc13_delta_mean, mfcc14_delta_mean, mfcc15_delta_mean, mfcc16_delta_mean, mfcc17_delta_mean, mfcc18_delta_mean, mfcc19_delta_mean, mfcc20_delta_mean, mfcc1_delta_std, mfcc2_delta_std, mfcc3_delta_std, mfcc4_delta_std, mfcc5_delta_std, mfcc6_delta_std, mfcc7_delta_std, mfcc8_delta_std, mfcc9_delta_std, mfcc10_delta_std, mfcc11_delta_std, mfcc12_delta_std, mfcc13_delta_std, mfcc14_delta_std, mfcc15_delta_std, mfcc16_delta_std, mfcc17_delta_std, mfcc18_delta_std, mfcc19_delta_std, mfcc20_delta_std, mfcc1_delta_var, mfcc2_delta_var, mfcc3_delta_var, mfcc4_delta_var, mfcc5_delta_var, mfcc6_delta_var, mfcc7_delta_var, mfcc8_delta_var, mfcc9_delta_var, mfcc10_delta_var, mfcc11_delta_var, mfcc12_delta_var, mfcc13_delta_var, mfcc14_delta_var, mfcc15_delta_var, mfcc16_delta_var, mfcc17_delta_var, mfcc18_delta_var, mfcc19_delta_var, mfcc20_delta_var, rmse_mean, rmse_std, rmse_var, cent_mean, cent_std, cent_var, spec_bw_mean, spec_bw_std, spec_bw_var, contrast_mean, contrast_std, contrast_var, rolloff_mean, rolloff_std, rolloff_var, poly_mean, poly_std, poly_var, tonnetz_mean, tonnetz_std, tonnetz_var, zcr_mean, zcr_std, zcr_var, harm_mean, harm_std, harm_var, perc_mean, perc_std, perc_var, frame_mean, frame_std, frame_var, label\n",
      " Schema: _c0, song_name, tempo, total_beats, average_beats, chroma_stft_mean, chroma_stft_std, chroma_stft_var, chroma_cq_mean, chroma_cq_std, chroma_cq_var, chroma_cens_mean, chroma_cens_std, chroma_cens_var, melspectrogram_mean, melspectrogram_std, melspectrogram_var, mfcc1_mean, mfcc2_mean, mfcc3_mean, mfcc4_mean, mfcc5_mean, mfcc6_mean, mfcc7_mean, mfcc8_mean, mfcc9_mean, mfcc10_mean, mfcc11_mean, mfcc12_mean, mfcc13_mean, mfcc14_mean, mfcc15_mean, mfcc16_mean, mfcc17_mean, mfcc18_mean, mfcc19_mean, mfcc20_mean, mfcc1_std, mfcc2_std, mfcc3_std, mfcc4_std, mfcc5_std, mfcc6_std, mfcc7_std, mfcc8_std, mfcc9_std, mfcc10_std, mfcc11_std, mfcc12_std, mfcc13_std, mfcc14_std, mfcc15_std, mfcc16_std, mfcc17_std, mfcc18_std, mfcc19_std, mfcc20_std, mfcc1_var, mfcc2_var, mfcc3_var, mfcc4_var, mfcc5_var, mfcc6_var, mfcc7_var, mfcc8_var, mfcc9_var, mfcc10_var, mfcc11_var, mfcc12_var, mfcc13_var, mfcc14_var, mfcc15_var, mfcc16_var, mfcc17_var, mfcc18_var, mfcc19_var, mfcc20_var, mfcc1_delta_mean, mfcc2_delta_mean, mfcc3_delta_mean, mfcc4_delta_mean, mfcc5_delta_mean, mfcc6_delta_mean, mfcc7_delta_mean, mfcc8_delta_mean, mfcc9_delta_mean, mfcc10_delta_mean, mfcc11_delta_mean, mfcc12_delta_mean, mfcc13_delta_mean, mfcc14_delta_mean, mfcc15_delta_mean, mfcc16_delta_mean, mfcc17_delta_mean, mfcc18_delta_mean, mfcc19_delta_mean, mfcc20_delta_mean, mfcc1_delta_std, mfcc2_delta_std, mfcc3_delta_std, mfcc4_delta_std, mfcc5_delta_std, mfcc6_delta_std, mfcc7_delta_std, mfcc8_delta_std, mfcc9_delta_std, mfcc10_delta_std, mfcc11_delta_std, mfcc12_delta_std, mfcc13_delta_std, mfcc14_delta_std, mfcc15_delta_std, mfcc16_delta_std, mfcc17_delta_std, mfcc18_delta_std, mfcc19_delta_std, mfcc20_delta_std, mfcc1_delta_var, mfcc2_delta_var, mfcc3_delta_var, mfcc4_delta_var, mfcc5_delta_var, mfcc6_delta_var, mfcc7_delta_var, mfcc8_delta_var, mfcc9_delta_var, mfcc10_delta_var, mfcc11_delta_var, mfcc12_delta_var, mfcc13_delta_var, mfcc14_delta_var, mfcc15_delta_var, mfcc16_delta_var, mfcc17_delta_var, mfcc18_delta_var, mfcc19_delta_var, mfcc20_delta_var, rmse_mean, rmse_std, rmse_var, cent_mean, cent_std, cent_var, spec_bw_mean, spec_bw_std, spec_bw_var, contrast_mean, contrast_std, contrast_var, rolloff_mean, rolloff_std, rolloff_var, poly_mean, poly_std, poly_var, tonnetz_mean, tonnetz_std, tonnetz_var, zcr_mean, zcr_std, zcr_var, harm_mean, harm_std, harm_var, perc_mean, perc_std, perc_var, frame_mean, frame_std, frame_var, label\n",
      "Expected: _c0 but found: \n",
      "CSV file: file:///home/spark/sparkcodes/allmusic3s.csv\n"
     ]
    },
    {
     "name": "stderr",
     "output_type": "stream",
     "text": [
      "                                                                                \r"
     ]
    },
    {
     "name": "stdout",
     "output_type": "stream",
     "text": [
      "22/10/04 17:58:59 WARN CSVHeaderChecker: CSV header does not conform to the schema.\n",
      " Header: , song_name, tempo, total_beats, average_beats, chroma_stft_mean, chroma_stft_std, chroma_stft_var, chroma_cq_mean, chroma_cq_std, chroma_cq_var, chroma_cens_mean, chroma_cens_std, chroma_cens_var, melspectrogram_mean, melspectrogram_std, melspectrogram_var, mfcc1_mean, mfcc2_mean, mfcc3_mean, mfcc4_mean, mfcc5_mean, mfcc6_mean, mfcc7_mean, mfcc8_mean, mfcc9_mean, mfcc10_mean, mfcc11_mean, mfcc12_mean, mfcc13_mean, mfcc14_mean, mfcc15_mean, mfcc16_mean, mfcc17_mean, mfcc18_mean, mfcc19_mean, mfcc20_mean, mfcc1_std, mfcc2_std, mfcc3_std, mfcc4_std, mfcc5_std, mfcc6_std, mfcc7_std, mfcc8_std, mfcc9_std, mfcc10_std, mfcc11_std, mfcc12_std, mfcc13_std, mfcc14_std, mfcc15_std, mfcc16_std, mfcc17_std, mfcc18_std, mfcc19_std, mfcc20_std, mfcc1_var, mfcc2_var, mfcc3_var, mfcc4_var, mfcc5_var, mfcc6_var, mfcc7_var, mfcc8_var, mfcc9_var, mfcc10_var, mfcc11_var, mfcc12_var, mfcc13_var, mfcc14_var, mfcc15_var, mfcc16_var, mfcc17_var, mfcc18_var, mfcc19_var, mfcc20_var, mfcc1_delta_mean, mfcc2_delta_mean, mfcc3_delta_mean, mfcc4_delta_mean, mfcc5_delta_mean, mfcc6_delta_mean, mfcc7_delta_mean, mfcc8_delta_mean, mfcc9_delta_mean, mfcc10_delta_mean, mfcc11_delta_mean, mfcc12_delta_mean, mfcc13_delta_mean, mfcc14_delta_mean, mfcc15_delta_mean, mfcc16_delta_mean, mfcc17_delta_mean, mfcc18_delta_mean, mfcc19_delta_mean, mfcc20_delta_mean, mfcc1_delta_std, mfcc2_delta_std, mfcc3_delta_std, mfcc4_delta_std, mfcc5_delta_std, mfcc6_delta_std, mfcc7_delta_std, mfcc8_delta_std, mfcc9_delta_std, mfcc10_delta_std, mfcc11_delta_std, mfcc12_delta_std, mfcc13_delta_std, mfcc14_delta_std, mfcc15_delta_std, mfcc16_delta_std, mfcc17_delta_std, mfcc18_delta_std, mfcc19_delta_std, mfcc20_delta_std, mfcc1_delta_var, mfcc2_delta_var, mfcc3_delta_var, mfcc4_delta_var, mfcc5_delta_var, mfcc6_delta_var, mfcc7_delta_var, mfcc8_delta_var, mfcc9_delta_var, mfcc10_delta_var, mfcc11_delta_var, mfcc12_delta_var, mfcc13_delta_var, mfcc14_delta_var, mfcc15_delta_var, mfcc16_delta_var, mfcc17_delta_var, mfcc18_delta_var, mfcc19_delta_var, mfcc20_delta_var, rmse_mean, rmse_std, rmse_var, cent_mean, cent_std, cent_var, spec_bw_mean, spec_bw_std, spec_bw_var, contrast_mean, contrast_std, contrast_var, rolloff_mean, rolloff_std, rolloff_var, poly_mean, poly_std, poly_var, tonnetz_mean, tonnetz_std, tonnetz_var, zcr_mean, zcr_std, zcr_var, harm_mean, harm_std, harm_var, perc_mean, perc_std, perc_var, frame_mean, frame_std, frame_var, label\n",
      " Schema: _c0, song_name, tempo, total_beats, average_beats, chroma_stft_mean, chroma_stft_std, chroma_stft_var, chroma_cq_mean, chroma_cq_std, chroma_cq_var, chroma_cens_mean, chroma_cens_std, chroma_cens_var, melspectrogram_mean, melspectrogram_std, melspectrogram_var, mfcc1_mean, mfcc2_mean, mfcc3_mean, mfcc4_mean, mfcc5_mean, mfcc6_mean, mfcc7_mean, mfcc8_mean, mfcc9_mean, mfcc10_mean, mfcc11_mean, mfcc12_mean, mfcc13_mean, mfcc14_mean, mfcc15_mean, mfcc16_mean, mfcc17_mean, mfcc18_mean, mfcc19_mean, mfcc20_mean, mfcc1_std, mfcc2_std, mfcc3_std, mfcc4_std, mfcc5_std, mfcc6_std, mfcc7_std, mfcc8_std, mfcc9_std, mfcc10_std, mfcc11_std, mfcc12_std, mfcc13_std, mfcc14_std, mfcc15_std, mfcc16_std, mfcc17_std, mfcc18_std, mfcc19_std, mfcc20_std, mfcc1_var, mfcc2_var, mfcc3_var, mfcc4_var, mfcc5_var, mfcc6_var, mfcc7_var, mfcc8_var, mfcc9_var, mfcc10_var, mfcc11_var, mfcc12_var, mfcc13_var, mfcc14_var, mfcc15_var, mfcc16_var, mfcc17_var, mfcc18_var, mfcc19_var, mfcc20_var, mfcc1_delta_mean, mfcc2_delta_mean, mfcc3_delta_mean, mfcc4_delta_mean, mfcc5_delta_mean, mfcc6_delta_mean, mfcc7_delta_mean, mfcc8_delta_mean, mfcc9_delta_mean, mfcc10_delta_mean, mfcc11_delta_mean, mfcc12_delta_mean, mfcc13_delta_mean, mfcc14_delta_mean, mfcc15_delta_mean, mfcc16_delta_mean, mfcc17_delta_mean, mfcc18_delta_mean, mfcc19_delta_mean, mfcc20_delta_mean, mfcc1_delta_std, mfcc2_delta_std, mfcc3_delta_std, mfcc4_delta_std, mfcc5_delta_std, mfcc6_delta_std, mfcc7_delta_std, mfcc8_delta_std, mfcc9_delta_std, mfcc10_delta_std, mfcc11_delta_std, mfcc12_delta_std, mfcc13_delta_std, mfcc14_delta_std, mfcc15_delta_std, mfcc16_delta_std, mfcc17_delta_std, mfcc18_delta_std, mfcc19_delta_std, mfcc20_delta_std, mfcc1_delta_var, mfcc2_delta_var, mfcc3_delta_var, mfcc4_delta_var, mfcc5_delta_var, mfcc6_delta_var, mfcc7_delta_var, mfcc8_delta_var, mfcc9_delta_var, mfcc10_delta_var, mfcc11_delta_var, mfcc12_delta_var, mfcc13_delta_var, mfcc14_delta_var, mfcc15_delta_var, mfcc16_delta_var, mfcc17_delta_var, mfcc18_delta_var, mfcc19_delta_var, mfcc20_delta_var, rmse_mean, rmse_std, rmse_var, cent_mean, cent_std, cent_var, spec_bw_mean, spec_bw_std, spec_bw_var, contrast_mean, contrast_std, contrast_var, rolloff_mean, rolloff_std, rolloff_var, poly_mean, poly_std, poly_var, tonnetz_mean, tonnetz_std, tonnetz_var, zcr_mean, zcr_std, zcr_var, harm_mean, harm_std, harm_var, perc_mean, perc_std, perc_var, frame_mean, frame_std, frame_var, label\n",
      "Expected: _c0 but found: \n",
      "CSV file: file:///home/spark/sparkcodes/allmusic3s.csv\n"
     ]
    },
    {
     "name": "stderr",
     "output_type": "stream",
     "text": [
      "                                                                                \r"
     ]
    },
    {
     "name": "stdout",
     "output_type": "stream",
     "text": [
      "22/10/04 17:59:10 WARN CSVHeaderChecker: CSV header does not conform to the schema.\n",
      " Header: , song_name, tempo, total_beats, average_beats, chroma_stft_mean, chroma_stft_std, chroma_stft_var, chroma_cq_mean, chroma_cq_std, chroma_cq_var, chroma_cens_mean, chroma_cens_std, chroma_cens_var, melspectrogram_mean, melspectrogram_std, melspectrogram_var, mfcc1_mean, mfcc2_mean, mfcc3_mean, mfcc4_mean, mfcc5_mean, mfcc6_mean, mfcc7_mean, mfcc8_mean, mfcc9_mean, mfcc10_mean, mfcc11_mean, mfcc12_mean, mfcc13_mean, mfcc14_mean, mfcc15_mean, mfcc16_mean, mfcc17_mean, mfcc18_mean, mfcc19_mean, mfcc20_mean, mfcc1_std, mfcc2_std, mfcc3_std, mfcc4_std, mfcc5_std, mfcc6_std, mfcc7_std, mfcc8_std, mfcc9_std, mfcc10_std, mfcc11_std, mfcc12_std, mfcc13_std, mfcc14_std, mfcc15_std, mfcc16_std, mfcc17_std, mfcc18_std, mfcc19_std, mfcc20_std, mfcc1_var, mfcc2_var, mfcc3_var, mfcc4_var, mfcc5_var, mfcc6_var, mfcc7_var, mfcc8_var, mfcc9_var, mfcc10_var, mfcc11_var, mfcc12_var, mfcc13_var, mfcc14_var, mfcc15_var, mfcc16_var, mfcc17_var, mfcc18_var, mfcc19_var, mfcc20_var, mfcc1_delta_mean, mfcc2_delta_mean, mfcc3_delta_mean, mfcc4_delta_mean, mfcc5_delta_mean, mfcc6_delta_mean, mfcc7_delta_mean, mfcc8_delta_mean, mfcc9_delta_mean, mfcc10_delta_mean, mfcc11_delta_mean, mfcc12_delta_mean, mfcc13_delta_mean, mfcc14_delta_mean, mfcc15_delta_mean, mfcc16_delta_mean, mfcc17_delta_mean, mfcc18_delta_mean, mfcc19_delta_mean, mfcc20_delta_mean, mfcc1_delta_std, mfcc2_delta_std, mfcc3_delta_std, mfcc4_delta_std, mfcc5_delta_std, mfcc6_delta_std, mfcc7_delta_std, mfcc8_delta_std, mfcc9_delta_std, mfcc10_delta_std, mfcc11_delta_std, mfcc12_delta_std, mfcc13_delta_std, mfcc14_delta_std, mfcc15_delta_std, mfcc16_delta_std, mfcc17_delta_std, mfcc18_delta_std, mfcc19_delta_std, mfcc20_delta_std, mfcc1_delta_var, mfcc2_delta_var, mfcc3_delta_var, mfcc4_delta_var, mfcc5_delta_var, mfcc6_delta_var, mfcc7_delta_var, mfcc8_delta_var, mfcc9_delta_var, mfcc10_delta_var, mfcc11_delta_var, mfcc12_delta_var, mfcc13_delta_var, mfcc14_delta_var, mfcc15_delta_var, mfcc16_delta_var, mfcc17_delta_var, mfcc18_delta_var, mfcc19_delta_var, mfcc20_delta_var, rmse_mean, rmse_std, rmse_var, cent_mean, cent_std, cent_var, spec_bw_mean, spec_bw_std, spec_bw_var, contrast_mean, contrast_std, contrast_var, rolloff_mean, rolloff_std, rolloff_var, poly_mean, poly_std, poly_var, tonnetz_mean, tonnetz_std, tonnetz_var, zcr_mean, zcr_std, zcr_var, harm_mean, harm_std, harm_var, perc_mean, perc_std, perc_var, frame_mean, frame_std, frame_var, label\n",
      " Schema: _c0, song_name, tempo, total_beats, average_beats, chroma_stft_mean, chroma_stft_std, chroma_stft_var, chroma_cq_mean, chroma_cq_std, chroma_cq_var, chroma_cens_mean, chroma_cens_std, chroma_cens_var, melspectrogram_mean, melspectrogram_std, melspectrogram_var, mfcc1_mean, mfcc2_mean, mfcc3_mean, mfcc4_mean, mfcc5_mean, mfcc6_mean, mfcc7_mean, mfcc8_mean, mfcc9_mean, mfcc10_mean, mfcc11_mean, mfcc12_mean, mfcc13_mean, mfcc14_mean, mfcc15_mean, mfcc16_mean, mfcc17_mean, mfcc18_mean, mfcc19_mean, mfcc20_mean, mfcc1_std, mfcc2_std, mfcc3_std, mfcc4_std, mfcc5_std, mfcc6_std, mfcc7_std, mfcc8_std, mfcc9_std, mfcc10_std, mfcc11_std, mfcc12_std, mfcc13_std, mfcc14_std, mfcc15_std, mfcc16_std, mfcc17_std, mfcc18_std, mfcc19_std, mfcc20_std, mfcc1_var, mfcc2_var, mfcc3_var, mfcc4_var, mfcc5_var, mfcc6_var, mfcc7_var, mfcc8_var, mfcc9_var, mfcc10_var, mfcc11_var, mfcc12_var, mfcc13_var, mfcc14_var, mfcc15_var, mfcc16_var, mfcc17_var, mfcc18_var, mfcc19_var, mfcc20_var, mfcc1_delta_mean, mfcc2_delta_mean, mfcc3_delta_mean, mfcc4_delta_mean, mfcc5_delta_mean, mfcc6_delta_mean, mfcc7_delta_mean, mfcc8_delta_mean, mfcc9_delta_mean, mfcc10_delta_mean, mfcc11_delta_mean, mfcc12_delta_mean, mfcc13_delta_mean, mfcc14_delta_mean, mfcc15_delta_mean, mfcc16_delta_mean, mfcc17_delta_mean, mfcc18_delta_mean, mfcc19_delta_mean, mfcc20_delta_mean, mfcc1_delta_std, mfcc2_delta_std, mfcc3_delta_std, mfcc4_delta_std, mfcc5_delta_std, mfcc6_delta_std, mfcc7_delta_std, mfcc8_delta_std, mfcc9_delta_std, mfcc10_delta_std, mfcc11_delta_std, mfcc12_delta_std, mfcc13_delta_std, mfcc14_delta_std, mfcc15_delta_std, mfcc16_delta_std, mfcc17_delta_std, mfcc18_delta_std, mfcc19_delta_std, mfcc20_delta_std, mfcc1_delta_var, mfcc2_delta_var, mfcc3_delta_var, mfcc4_delta_var, mfcc5_delta_var, mfcc6_delta_var, mfcc7_delta_var, mfcc8_delta_var, mfcc9_delta_var, mfcc10_delta_var, mfcc11_delta_var, mfcc12_delta_var, mfcc13_delta_var, mfcc14_delta_var, mfcc15_delta_var, mfcc16_delta_var, mfcc17_delta_var, mfcc18_delta_var, mfcc19_delta_var, mfcc20_delta_var, rmse_mean, rmse_std, rmse_var, cent_mean, cent_std, cent_var, spec_bw_mean, spec_bw_std, spec_bw_var, contrast_mean, contrast_std, contrast_var, rolloff_mean, rolloff_std, rolloff_var, poly_mean, poly_std, poly_var, tonnetz_mean, tonnetz_std, tonnetz_var, zcr_mean, zcr_std, zcr_var, harm_mean, harm_std, harm_var, perc_mean, perc_std, perc_var, frame_mean, frame_std, frame_var, label\n",
      "Expected: _c0 but found: \n",
      "CSV file: file:///home/spark/sparkcodes/allmusic3s.csv\n"
     ]
    },
    {
     "name": "stderr",
     "output_type": "stream",
     "text": [
      "[Stage 938:>                                                        (0 + 2) / 2]\r"
     ]
    },
    {
     "name": "stdout",
     "output_type": "stream",
     "text": [
      "LogisticRegression Accuracy: 0.754\n"
     ]
    },
    {
     "name": "stderr",
     "output_type": "stream",
     "text": [
      "                                                                                \r"
     ]
    }
   ],
   "source": [
    "#LogisticRegression\n",
    "logr = LogisticRegression(featuresCol='mmfeatures',labelCol='y')\n",
    "select_model(logr, trainingData, testData)\n",
    "\n",
    "#RandomForest\n",
    "rf = RandomForestClassifier(featuresCol='mmfeatures',labelCol='y')\n",
    "# select_model(rf, trainingData, testData)\n",
    "\n",
    "#GBTClassifier\n",
    "gbt = GBTClassifier(featuresCol='mmfeatures',labelCol='y')\n",
    "# select_model(gbt, trainingData, testData)\n"
   ]
  }
 ],
 "metadata": {
  "kernelspec": {
   "display_name": "Python 3 (ipykernel)",
   "language": "python",
   "name": "python3"
  },
  "language_info": {
   "codemirror_mode": {
    "name": "ipython",
    "version": 3
   },
   "file_extension": ".py",
   "mimetype": "text/x-python",
   "name": "python",
   "nbconvert_exporter": "python",
   "pygments_lexer": "ipython3",
   "version": "3.10.6"
  }
 },
 "nbformat": 4,
 "nbformat_minor": 5
}
